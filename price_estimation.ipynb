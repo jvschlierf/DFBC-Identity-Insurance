{
 "cells": [
  {
   "cell_type": "code",
   "execution_count": 1,
   "metadata": {},
   "outputs": [],
   "source": [
    "import pandas as pd\n",
    "import numpy as np\n",
    "from sklearn import linear_model\n",
    "from sklearn.model_selection import train_test_split"
   ]
  },
  {
   "cell_type": "code",
   "execution_count": 2,
   "metadata": {},
   "outputs": [],
   "source": [
    "df = pd.read_csv('LandRegistry.csv')"
   ]
  },
  {
   "cell_type": "code",
   "execution_count": 3,
   "metadata": {},
   "outputs": [],
   "source": [
    "data = df.drop(['Title','Link','riscaldamento','Climatizzatore','anno di costruzione','Tipo proprietà','Title','indirizzo', 'riferimento e Data annuncio', 'contratto', 'tipologia','Owner','immobile garantito','Efficienza energetica', 'disponibilità','spese condominio' ],axis=1)"
   ]
  },
  {
   "cell_type": "code",
   "execution_count": 4,
   "metadata": {},
   "outputs": [],
   "source": [
    "# clean locali\n",
    "for i in range(len(data['locali'])):\n",
    "    a_string = data['locali'][i]\n",
    "    numbers = []\n",
    "    for word in a_string.split():\n",
    "       if word.isdigit():\n",
    "          numbers.append(int(word))\n",
    "    data['locali'][i] = numbers[-(len(numbers))]\n",
    "    "
   ]
  },
  {
   "cell_type": "code",
   "execution_count": 5,
   "metadata": {},
   "outputs": [],
   "source": [
    "# clean superficie\n",
    "for i in range(len(data['superficie'])):\n",
    "    a_string = data['superficie'][i]\n",
    "    numbers = []\n",
    "    for word in a_string.split():\n",
    "       if word.isdigit():\n",
    "          numbers.append(int(word))\n",
    "    data['superficie'][i] = numbers[-(len(numbers))]"
   ]
  },
  {
   "cell_type": "code",
   "execution_count": 6,
   "metadata": {},
   "outputs": [],
   "source": [
    "# transform cat values in dummy vars (altre car, tipo proprietà, stato, riscaldamento, Climatizzatore, Posti Auto)\n",
    "data=pd.get_dummies(data, columns= ['altre caratteristiche'])\n",
    "data=pd.get_dummies(data, columns= ['stato'])\n",
    "data=pd.get_dummies(data, columns= ['totale piani edificio'])\n",
    "data=pd.get_dummies(data, columns= ['Posti Auto'])\n"
   ]
  },
  {
   "cell_type": "code",
   "execution_count": 7,
   "metadata": {},
   "outputs": [],
   "source": [
    "data = data[data.prezzo != 'Prezzo su richiesta']"
   ]
  },
  {
   "cell_type": "code",
   "execution_count": 8,
   "metadata": {},
   "outputs": [],
   "source": [
    "data=pd.get_dummies(data, columns= ['piano'])"
   ]
  },
  {
   "cell_type": "code",
   "execution_count": 9,
   "metadata": {},
   "outputs": [],
   "source": [
    "X = data.drop(['prezzo'], axis=1)\n",
    "#y = np.array(data['prezzo'].str.replace('\\.','').astype(int)) / np.array(data['superficie'])  'y = €/m2'\n",
    "y = np.log(np.array(data['prezzo'].str.replace('\\.','').astype(int))) # 'y = log(€)' (BEST)\n",
    "#y = np.array(data['prezzo'].str.replace('\\.','').astype(int))  'y = €'"
   ]
  },
  {
   "cell_type": "code",
   "execution_count": 10,
   "metadata": {},
   "outputs": [],
   "source": [
    "model = linear_model.LinearRegression()"
   ]
  },
  {
   "cell_type": "code",
   "execution_count": 11,
   "metadata": {},
   "outputs": [],
   "source": [
    "X_train, X_test, y_train, y_test = train_test_split(X, y, test_size=0.2, shuffle=True, random_state=42)"
   ]
  },
  {
   "cell_type": "code",
   "execution_count": 12,
   "metadata": {},
   "outputs": [],
   "source": [
    "fit=model.fit(X_train, y_train)"
   ]
  },
  {
   "cell_type": "code",
   "execution_count": 13,
   "metadata": {},
   "outputs": [],
   "source": [
    "y_pred = np.array(model.predict(X_test))"
   ]
  },
  {
   "cell_type": "code",
   "execution_count": 14,
   "metadata": {},
   "outputs": [
    {
     "name": "stdout",
     "output_type": "stream",
     "text": [
      "0.23207882991372572\n"
     ]
    }
   ],
   "source": [
    "from sklearn import metrics\n",
    "\n",
    "print(metrics.mean_absolute_error(y_test,y_pred))"
   ]
  },
  {
   "cell_type": "code",
   "execution_count": 15,
   "metadata": {},
   "outputs": [
    {
     "data": {
      "text/plain": [
       "13.143708957416122"
      ]
     },
     "execution_count": 15,
     "metadata": {},
     "output_type": "execute_result"
    }
   ],
   "source": [
    "y.mean()"
   ]
  },
  {
   "cell_type": "code",
   "execution_count": 16,
   "metadata": {},
   "outputs": [],
   "source": [
    "import numpy as np\n",
    "from sklearn import datasets, linear_model\n",
    "from sklearn.metrics import mean_squared_error, r2_score"
   ]
  },
  {
   "cell_type": "code",
   "execution_count": 17,
   "metadata": {},
   "outputs": [
    {
     "name": "stdout",
     "output_type": "stream",
     "text": [
      "Coefficients: \n",
      " [ 8.77016452e-03  8.49358896e-02 -1.52186299e-01  2.65132227e-01\n",
      "  1.68104277e-01  1.42575015e-01  4.08810753e-01  1.51262844e-01\n",
      "  2.18868741e-01  4.28648682e-01  2.11723614e-01  1.20126125e-01\n",
      "  1.88242280e-01 -1.01243182e-01 -1.43773882e-14  2.07111409e-01\n",
      "  1.73491634e-01 -2.22494226e-01 -1.69605607e-01  5.64328802e-02\n",
      " -3.29031529e-02 -1.53186484e-01 -2.92926211e-01 -5.30551668e-01\n",
      " -9.04161717e-02  4.38538095e-15 -9.57702362e-02 -1.30093650e-01\n",
      " -4.25866684e-01 -2.69229083e-15  6.65455179e-03  4.56817738e-02\n",
      "  3.91942175e-02 -8.85675894e-03 -5.73757511e-02 -1.30001531e-01\n",
      "  1.94508707e-01 -7.84640639e-02 -8.15692521e-02 -9.99570629e-02\n",
      "  3.74860902e-01 -4.30274173e-01  7.03792214e-02 -1.11524878e-01\n",
      " -2.68357114e+00  2.43272783e-01  3.51592515e-01 -1.71348174e-02\n",
      " -6.10232449e-01 -2.04841615e-01 -1.98258923e-01  1.30594570e-01\n",
      "  4.28027590e-02  8.54714735e-02  2.54343491e-01 -2.16493490e-15\n",
      "  1.84638643e-01  3.51393231e-01 -1.68233692e-01  2.15836513e-01\n",
      "  2.88985734e-01  8.65676323e-02 -3.34002167e-01  1.05471187e-15\n",
      " -3.15953236e-01  1.78015293e-02  8.88795399e-02 -5.92936498e-02\n",
      "  4.79226751e-01  1.55236350e-01  3.38290320e-01  3.96764536e-01\n",
      "  3.66373598e-15  1.89271783e-01  3.58365156e-01  3.10862447e-15\n",
      "  1.43952523e-01  3.61862392e-01 -3.13376677e-01 -2.50295335e-02\n",
      " -1.30093650e-01  1.42332993e-01 -2.42276880e-02  8.86537395e-02\n",
      "  1.24448966e-01 -1.86674017e-01  1.61504517e-01 -1.45904352e-01\n",
      " -1.44749505e-01 -3.41429475e-01 -6.57050574e-01 -3.09043698e-01\n",
      " -9.04161717e-02  1.48838317e-01 -5.82597392e-02  3.78250013e-01\n",
      "  6.51161121e-03  8.72655490e-02  0.00000000e+00 -1.39774876e-01\n",
      " -3.40602523e-01  0.00000000e+00 -9.88975355e-02 -5.52281243e-01\n",
      "  1.06222601e-01 -5.43416724e-01]\n",
      "Root mean squared error: 0.30\n",
      "Coefficient of determination: 0.78\n"
     ]
    }
   ],
   "source": [
    "# The coefficients\n",
    "print(\"Coefficients: \\n\", model.coef_)\n",
    "# The mean squared error\n",
    "print(\"Root mean squared error: %.2f\" % np.sqrt(mean_squared_error(y_test, y_pred)))\n",
    "# The coefficient of determination: 1 is perfect prediction\n",
    "print(\"Coefficient of determination: %.2f\" % r2_score(y_test, y_pred))\n"
   ]
  },
  {
   "cell_type": "code",
   "execution_count": 18,
   "metadata": {},
   "outputs": [],
   "source": [
    "# Import the model we are using\n",
    "from sklearn.ensemble import RandomForestRegressor\n",
    "# Instantiate model with 1000 decision trees\n",
    "rf = RandomForestRegressor(n_estimators = 1000, random_state = 17)\n",
    "# Train the model on training data\n",
    "rf.fit(X_train, y_train);\n"
   ]
  },
  {
   "cell_type": "code",
   "execution_count": 19,
   "metadata": {},
   "outputs": [],
   "source": [
    "y_predrf = rf.predict(X_test)"
   ]
  },
  {
   "cell_type": "code",
   "execution_count": 20,
   "metadata": {},
   "outputs": [
    {
     "name": "stdout",
     "output_type": "stream",
     "text": [
      "Root mean squared error: 0.29\n",
      "Coefficient of determination: 0.79\n"
     ]
    }
   ],
   "source": [
    "# The mean squared error\n",
    "print(\"Root mean squared error: %.2f\" % np.sqrt(mean_squared_error(y_test, y_predrf)))\n",
    "# The coefficient of determination: 1 is perfect prediction\n",
    "print(\"Coefficient of determination: %.2f\" % r2_score(y_test, y_predrf))\n"
   ]
  },
  {
   "cell_type": "code",
   "execution_count": 21,
   "metadata": {},
   "outputs": [],
   "source": [
    "from sklearn.ensemble import HistGradientBoostingRegressor"
   ]
  },
  {
   "cell_type": "code",
   "execution_count": 22,
   "metadata": {},
   "outputs": [],
   "source": [
    "HGBR = HistGradientBoostingRegressor().fit(X, y)"
   ]
  },
  {
   "cell_type": "code",
   "execution_count": 23,
   "metadata": {},
   "outputs": [
    {
     "data": {
      "text/plain": [
       "0.8691776799066354"
      ]
     },
     "execution_count": 23,
     "metadata": {},
     "output_type": "execute_result"
    }
   ],
   "source": [
    "HGBR.score(X, y)"
   ]
  },
  {
   "cell_type": "code",
   "execution_count": 24,
   "metadata": {},
   "outputs": [],
   "source": [
    "y_pred = np.array(HGBR.predict(X_test))"
   ]
  },
  {
   "cell_type": "code",
   "execution_count": 25,
   "metadata": {},
   "outputs": [
    {
     "name": "stdout",
     "output_type": "stream",
     "text": [
      "Root mean squared error: 0.19\n",
      "Coefficient of determination: 0.91\n"
     ]
    }
   ],
   "source": [
    "print(\"Root mean squared error: %.2f\" % np.sqrt(mean_squared_error(y_test, y_pred)))\n",
    "# The coefficient of determination: 1 is perfect prediction\n",
    "print(\"Coefficient of determination: %.2f\" % r2_score(y_test, y_pred))\n"
   ]
  },
  {
   "cell_type": "code",
   "execution_count": null,
   "metadata": {},
   "outputs": [],
   "source": [
    "# HGBR best performance"
   ]
  }
 ],
 "metadata": {
  "kernelspec": {
   "display_name": "Python 3",
   "language": "python",
   "name": "python3"
  },
  "language_info": {
   "codemirror_mode": {
    "name": "ipython",
    "version": 3
   },
   "file_extension": ".py",
   "mimetype": "text/x-python",
   "name": "python",
   "nbconvert_exporter": "python",
   "pygments_lexer": "ipython3",
   "version": "3.7.4"
  }
 },
 "nbformat": 4,
 "nbformat_minor": 4
}
