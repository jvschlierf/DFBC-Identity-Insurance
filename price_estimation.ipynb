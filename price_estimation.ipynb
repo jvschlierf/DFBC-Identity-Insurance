{
 "cells": [
  {
   "cell_type": "code",
   "execution_count": 1,
   "metadata": {},
   "outputs": [],
   "source": [
    "import pandas as pd\n",
    "import numpy as np\n",
    "from sklearn import linear_model\n",
    "from sklearn.model_selection import train_test_split"
   ]
  },
  {
   "cell_type": "code",
   "execution_count": 2,
   "metadata": {},
   "outputs": [],
   "source": [
    "df = pd.read_csv('LandRegistry.csv')\n"
   ]
  },
  {
   "cell_type": "code",
   "execution_count": 3,
   "metadata": {},
   "outputs": [],
   "source": [
    "\n",
    "data = df.drop(['Title','Link','riscaldamento','Climatizzatore','anno di costruzione','Tipo proprietà','Title','indirizzo', 'riferimento e Data annuncio', 'contratto', 'tipologia','Owner','immobile garantito','Efficienza energetica', 'disponibilità','spese condominio' ],axis=1)\n"
   ]
  },
  {
   "cell_type": "code",
   "execution_count": 4,
   "metadata": {},
   "outputs": [],
   "source": [
    "# clean locali\n",
    "for i in range(len(data['locali'])):\n",
    "    a_string = data['locali'][i]\n",
    "    numbers = []\n",
    "    for word in a_string.split():\n",
    "       if word.isdigit():\n",
    "          numbers.append(int(word))\n",
    "    data['locali'][i] = numbers[-(len(numbers))]\n",
    "    "
   ]
  },
  {
   "cell_type": "code",
   "execution_count": 5,
   "metadata": {},
   "outputs": [
    {
     "data": {
      "text/html": [
       "<div>\n",
       "<style scoped>\n",
       "    .dataframe tbody tr th:only-of-type {\n",
       "        vertical-align: middle;\n",
       "    }\n",
       "\n",
       "    .dataframe tbody tr th {\n",
       "        vertical-align: top;\n",
       "    }\n",
       "\n",
       "    .dataframe thead th {\n",
       "        text-align: right;\n",
       "    }\n",
       "</style>\n",
       "<table border=\"1\" class=\"dataframe\">\n",
       "  <thead>\n",
       "    <tr style=\"text-align: right;\">\n",
       "      <th></th>\n",
       "      <th>superficie</th>\n",
       "      <th>locali</th>\n",
       "      <th>piano</th>\n",
       "      <th>totale piani edificio</th>\n",
       "      <th>altre caratteristiche</th>\n",
       "      <th>prezzo</th>\n",
       "      <th>stato</th>\n",
       "      <th>Posti Auto</th>\n",
       "    </tr>\n",
       "  </thead>\n",
       "  <tbody>\n",
       "    <tr>\n",
       "      <th>0</th>\n",
       "      <td>167 m²</td>\n",
       "      <td>4</td>\n",
       "      <td>Piano terra, con ascensore</td>\n",
       "      <td>6 piani</td>\n",
       "      <td>Cancello elettrico</td>\n",
       "      <td>560.000</td>\n",
       "      <td>Ottimo / Ristrutturato</td>\n",
       "      <td>NaN</td>\n",
       "    </tr>\n",
       "    <tr>\n",
       "      <th>1</th>\n",
       "      <td>130 m²</td>\n",
       "      <td>4</td>\n",
       "      <td>7°, con ascensore, con accesso disabili</td>\n",
       "      <td>8 piani</td>\n",
       "      <td>Cancello elettrico</td>\n",
       "      <td>564.000</td>\n",
       "      <td>Buono / Abitabile</td>\n",
       "      <td>1 in garage/box</td>\n",
       "    </tr>\n",
       "    <tr>\n",
       "      <th>2</th>\n",
       "      <td>60 m²</td>\n",
       "      <td>3</td>\n",
       "      <td>1°, con ascensore</td>\n",
       "      <td>8 piani</td>\n",
       "      <td>Porta blindata</td>\n",
       "      <td>420.000</td>\n",
       "      <td>Ottimo / Ristrutturato</td>\n",
       "      <td>NaN</td>\n",
       "    </tr>\n",
       "    <tr>\n",
       "      <th>3</th>\n",
       "      <td>50 m²</td>\n",
       "      <td>2</td>\n",
       "      <td>Piano terra</td>\n",
       "      <td>4 piani</td>\n",
       "      <td>Fibra ottica</td>\n",
       "      <td>250.000</td>\n",
       "      <td>Buono / Abitabile</td>\n",
       "      <td>NaN</td>\n",
       "    </tr>\n",
       "    <tr>\n",
       "      <th>4</th>\n",
       "      <td>53 m²</td>\n",
       "      <td>2</td>\n",
       "      <td>2°, con ascensore, con accesso disabili</td>\n",
       "      <td>7 piani</td>\n",
       "      <td>Fibra ottica</td>\n",
       "      <td>750.000</td>\n",
       "      <td>Ottimo / Ristrutturato</td>\n",
       "      <td>NaN</td>\n",
       "    </tr>\n",
       "  </tbody>\n",
       "</table>\n",
       "</div>"
      ],
      "text/plain": [
       "  superficie locali                                    piano  \\\n",
       "0     167 m²      4               Piano terra, con ascensore   \n",
       "1     130 m²      4  7°, con ascensore, con accesso disabili   \n",
       "2      60 m²      3                        1°, con ascensore   \n",
       "3      50 m²      2                              Piano terra   \n",
       "4      53 m²      2  2°, con ascensore, con accesso disabili   \n",
       "\n",
       "  totale piani edificio altre caratteristiche   prezzo  \\\n",
       "0               6 piani    Cancello elettrico  560.000   \n",
       "1               8 piani    Cancello elettrico  564.000   \n",
       "2               8 piani        Porta blindata  420.000   \n",
       "3               4 piani          Fibra ottica  250.000   \n",
       "4               7 piani          Fibra ottica  750.000   \n",
       "\n",
       "                    stato       Posti Auto  \n",
       "0  Ottimo / Ristrutturato              NaN  \n",
       "1       Buono / Abitabile  1 in garage/box  \n",
       "2  Ottimo / Ristrutturato              NaN  \n",
       "3       Buono / Abitabile              NaN  \n",
       "4  Ottimo / Ristrutturato              NaN  "
      ]
     },
     "execution_count": 5,
     "metadata": {},
     "output_type": "execute_result"
    }
   ],
   "source": [
    "data.head()"
   ]
  },
  {
   "cell_type": "markdown",
   "metadata": {},
   "source": [
    "# clean piano\n",
    "for i in range(len(data['piano'])):\n",
    "    a_string = data['piano'][i]\n",
    "    numbers = []\n",
    "    for word in a_string.split():\n",
    "        if word.isdigit():\n",
    "            numbers.append(int(word))\n",
    "        else:\n",
    "            numbers.append(0)\n",
    "    data['piano'][i] = numbers[-(len(numbers))]"
   ]
  },
  {
   "cell_type": "code",
   "execution_count": 5,
   "metadata": {},
   "outputs": [],
   "source": [
    "# clean superficie\n",
    "for i in range(len(data['superficie'])):\n",
    "    a_string = data['superficie'][i]\n",
    "    numbers = []\n",
    "    for word in a_string.split():\n",
    "       if word.isdigit():\n",
    "          numbers.append(int(word))\n",
    "    data['superficie'][i] = numbers[-(len(numbers))]"
   ]
  },
  {
   "cell_type": "code",
   "execution_count": 13,
   "metadata": {},
   "outputs": [
    {
     "ename": "KeyError",
     "evalue": "\"None of [Index(['altre caratteristiche'], dtype='object')] are in the [columns]\"",
     "output_type": "error",
     "traceback": [
      "\u001b[0;31m---------------------------------------------------------------------------\u001b[0m",
      "\u001b[0;31mKeyError\u001b[0m                                  Traceback (most recent call last)",
      "\u001b[0;32m<ipython-input-13-2c07230c3306>\u001b[0m in \u001b[0;36m<module>\u001b[0;34m\u001b[0m\n\u001b[1;32m      1\u001b[0m \u001b[0;31m# transform cat value in dummy vars (altre car, tipo proprietà, stato, riscaldamento, Climatizzatore, Posti Auto)\u001b[0m\u001b[0;34m\u001b[0m\u001b[0;34m\u001b[0m\u001b[0;34m\u001b[0m\u001b[0m\n\u001b[0;32m----> 2\u001b[0;31m \u001b[0mdata\u001b[0m\u001b[0;34m=\u001b[0m\u001b[0mpd\u001b[0m\u001b[0;34m.\u001b[0m\u001b[0mget_dummies\u001b[0m\u001b[0;34m(\u001b[0m\u001b[0mdata\u001b[0m\u001b[0;34m,\u001b[0m \u001b[0mcolumns\u001b[0m\u001b[0;34m=\u001b[0m \u001b[0;34m[\u001b[0m\u001b[0;34m'altre caratteristiche'\u001b[0m\u001b[0;34m]\u001b[0m\u001b[0;34m)\u001b[0m\u001b[0;34m\u001b[0m\u001b[0;34m\u001b[0m\u001b[0m\n\u001b[0m\u001b[1;32m      3\u001b[0m \u001b[0;31m#data=pd.get_dummies(data, columns= ['Tipo proprietà'])\u001b[0m\u001b[0;34m\u001b[0m\u001b[0;34m\u001b[0m\u001b[0;34m\u001b[0m\u001b[0m\n\u001b[1;32m      4\u001b[0m \u001b[0mdata\u001b[0m\u001b[0;34m=\u001b[0m\u001b[0mpd\u001b[0m\u001b[0;34m.\u001b[0m\u001b[0mget_dummies\u001b[0m\u001b[0;34m(\u001b[0m\u001b[0mdata\u001b[0m\u001b[0;34m,\u001b[0m \u001b[0mcolumns\u001b[0m\u001b[0;34m=\u001b[0m \u001b[0;34m[\u001b[0m\u001b[0;34m'stato'\u001b[0m\u001b[0;34m]\u001b[0m\u001b[0;34m)\u001b[0m\u001b[0;34m\u001b[0m\u001b[0;34m\u001b[0m\u001b[0m\n\u001b[1;32m      5\u001b[0m \u001b[0;31m#data=pd.get_dummies(data, columns= ['riscaldamento'])\u001b[0m\u001b[0;34m\u001b[0m\u001b[0;34m\u001b[0m\u001b[0;34m\u001b[0m\u001b[0m\n",
      "\u001b[0;32m~/opt/anaconda3/lib/python3.7/site-packages/pandas/core/reshape/reshape.py\u001b[0m in \u001b[0;36mget_dummies\u001b[0;34m(data, prefix, prefix_sep, dummy_na, columns, sparse, drop_first, dtype)\u001b[0m\n\u001b[1;32m    866\u001b[0m             \u001b[0;32mraise\u001b[0m \u001b[0mTypeError\u001b[0m\u001b[0;34m(\u001b[0m\u001b[0;34m\"Input must be a list-like for parameter `columns`\"\u001b[0m\u001b[0;34m)\u001b[0m\u001b[0;34m\u001b[0m\u001b[0;34m\u001b[0m\u001b[0m\n\u001b[1;32m    867\u001b[0m         \u001b[0;32melse\u001b[0m\u001b[0;34m:\u001b[0m\u001b[0;34m\u001b[0m\u001b[0;34m\u001b[0m\u001b[0m\n\u001b[0;32m--> 868\u001b[0;31m             \u001b[0mdata_to_encode\u001b[0m \u001b[0;34m=\u001b[0m \u001b[0mdata\u001b[0m\u001b[0;34m[\u001b[0m\u001b[0mcolumns\u001b[0m\u001b[0;34m]\u001b[0m\u001b[0;34m\u001b[0m\u001b[0;34m\u001b[0m\u001b[0m\n\u001b[0m\u001b[1;32m    869\u001b[0m \u001b[0;34m\u001b[0m\u001b[0m\n\u001b[1;32m    870\u001b[0m         \u001b[0;31m# validate prefixes and separator to avoid silently dropping cols\u001b[0m\u001b[0;34m\u001b[0m\u001b[0;34m\u001b[0m\u001b[0;34m\u001b[0m\u001b[0m\n",
      "\u001b[0;32m~/opt/anaconda3/lib/python3.7/site-packages/pandas/core/frame.py\u001b[0m in \u001b[0;36m__getitem__\u001b[0;34m(self, key)\u001b[0m\n\u001b[1;32m   2804\u001b[0m             \u001b[0;32mif\u001b[0m \u001b[0mis_iterator\u001b[0m\u001b[0;34m(\u001b[0m\u001b[0mkey\u001b[0m\u001b[0;34m)\u001b[0m\u001b[0;34m:\u001b[0m\u001b[0;34m\u001b[0m\u001b[0;34m\u001b[0m\u001b[0m\n\u001b[1;32m   2805\u001b[0m                 \u001b[0mkey\u001b[0m \u001b[0;34m=\u001b[0m \u001b[0mlist\u001b[0m\u001b[0;34m(\u001b[0m\u001b[0mkey\u001b[0m\u001b[0;34m)\u001b[0m\u001b[0;34m\u001b[0m\u001b[0;34m\u001b[0m\u001b[0m\n\u001b[0;32m-> 2806\u001b[0;31m             \u001b[0mindexer\u001b[0m \u001b[0;34m=\u001b[0m \u001b[0mself\u001b[0m\u001b[0;34m.\u001b[0m\u001b[0mloc\u001b[0m\u001b[0;34m.\u001b[0m\u001b[0m_get_listlike_indexer\u001b[0m\u001b[0;34m(\u001b[0m\u001b[0mkey\u001b[0m\u001b[0;34m,\u001b[0m \u001b[0maxis\u001b[0m\u001b[0;34m=\u001b[0m\u001b[0;36m1\u001b[0m\u001b[0;34m,\u001b[0m \u001b[0mraise_missing\u001b[0m\u001b[0;34m=\u001b[0m\u001b[0;32mTrue\u001b[0m\u001b[0;34m)\u001b[0m\u001b[0;34m[\u001b[0m\u001b[0;36m1\u001b[0m\u001b[0;34m]\u001b[0m\u001b[0;34m\u001b[0m\u001b[0;34m\u001b[0m\u001b[0m\n\u001b[0m\u001b[1;32m   2807\u001b[0m \u001b[0;34m\u001b[0m\u001b[0m\n\u001b[1;32m   2808\u001b[0m         \u001b[0;31m# take() does not accept boolean indexers\u001b[0m\u001b[0;34m\u001b[0m\u001b[0;34m\u001b[0m\u001b[0;34m\u001b[0m\u001b[0m\n",
      "\u001b[0;32m~/opt/anaconda3/lib/python3.7/site-packages/pandas/core/indexing.py\u001b[0m in \u001b[0;36m_get_listlike_indexer\u001b[0;34m(self, key, axis, raise_missing)\u001b[0m\n\u001b[1;32m   1551\u001b[0m \u001b[0;34m\u001b[0m\u001b[0m\n\u001b[1;32m   1552\u001b[0m         self._validate_read_indexer(\n\u001b[0;32m-> 1553\u001b[0;31m             \u001b[0mkeyarr\u001b[0m\u001b[0;34m,\u001b[0m \u001b[0mindexer\u001b[0m\u001b[0;34m,\u001b[0m \u001b[0mo\u001b[0m\u001b[0;34m.\u001b[0m\u001b[0m_get_axis_number\u001b[0m\u001b[0;34m(\u001b[0m\u001b[0maxis\u001b[0m\u001b[0;34m)\u001b[0m\u001b[0;34m,\u001b[0m \u001b[0mraise_missing\u001b[0m\u001b[0;34m=\u001b[0m\u001b[0mraise_missing\u001b[0m\u001b[0;34m\u001b[0m\u001b[0;34m\u001b[0m\u001b[0m\n\u001b[0m\u001b[1;32m   1554\u001b[0m         )\n\u001b[1;32m   1555\u001b[0m         \u001b[0;32mreturn\u001b[0m \u001b[0mkeyarr\u001b[0m\u001b[0;34m,\u001b[0m \u001b[0mindexer\u001b[0m\u001b[0;34m\u001b[0m\u001b[0;34m\u001b[0m\u001b[0m\n",
      "\u001b[0;32m~/opt/anaconda3/lib/python3.7/site-packages/pandas/core/indexing.py\u001b[0m in \u001b[0;36m_validate_read_indexer\u001b[0;34m(self, key, indexer, axis, raise_missing)\u001b[0m\n\u001b[1;32m   1638\u001b[0m             \u001b[0;32mif\u001b[0m \u001b[0mmissing\u001b[0m \u001b[0;34m==\u001b[0m \u001b[0mlen\u001b[0m\u001b[0;34m(\u001b[0m\u001b[0mindexer\u001b[0m\u001b[0;34m)\u001b[0m\u001b[0;34m:\u001b[0m\u001b[0;34m\u001b[0m\u001b[0;34m\u001b[0m\u001b[0m\n\u001b[1;32m   1639\u001b[0m                 \u001b[0maxis_name\u001b[0m \u001b[0;34m=\u001b[0m \u001b[0mself\u001b[0m\u001b[0;34m.\u001b[0m\u001b[0mobj\u001b[0m\u001b[0;34m.\u001b[0m\u001b[0m_get_axis_name\u001b[0m\u001b[0;34m(\u001b[0m\u001b[0maxis\u001b[0m\u001b[0;34m)\u001b[0m\u001b[0;34m\u001b[0m\u001b[0;34m\u001b[0m\u001b[0m\n\u001b[0;32m-> 1640\u001b[0;31m                 \u001b[0;32mraise\u001b[0m \u001b[0mKeyError\u001b[0m\u001b[0;34m(\u001b[0m\u001b[0;34mf\"None of [{key}] are in the [{axis_name}]\"\u001b[0m\u001b[0;34m)\u001b[0m\u001b[0;34m\u001b[0m\u001b[0;34m\u001b[0m\u001b[0m\n\u001b[0m\u001b[1;32m   1641\u001b[0m \u001b[0;34m\u001b[0m\u001b[0m\n\u001b[1;32m   1642\u001b[0m             \u001b[0;31m# We (temporarily) allow for some missing keys with .loc, except in\u001b[0m\u001b[0;34m\u001b[0m\u001b[0;34m\u001b[0m\u001b[0;34m\u001b[0m\u001b[0m\n",
      "\u001b[0;31mKeyError\u001b[0m: \"None of [Index(['altre caratteristiche'], dtype='object')] are in the [columns]\""
     ]
    }
   ],
   "source": [
    "# transform cat value in dummy vars (altre car, tipo proprietà, stato, riscaldamento, Climatizzatore, Posti Auto)\n",
    "data=pd.get_dummies(data, columns= ['altre caratteristiche'])\n",
    "#data=pd.get_dummies(data, columns= ['Tipo proprietà'])\n",
    "data=pd.get_dummies(data, columns= ['stato'])\n",
    "#data=pd.get_dummies(data, columns= ['riscaldamento'])\n",
    "#data=pd.get_dummies(data, columns= ['Climatizzatore'])\n",
    "data=pd.get_dummies(data, columns= ['totale piani edificio'])\n",
    "data=pd.get_dummies(data, columns= ['Posti Auto'])\n"
   ]
  },
  {
   "cell_type": "code",
   "execution_count": 7,
   "metadata": {},
   "outputs": [],
   "source": [
    "data = data[data.prezzo != 'Prezzo su richiesta']"
   ]
  },
  {
   "cell_type": "code",
   "execution_count": 14,
   "metadata": {},
   "outputs": [],
   "source": [
    "data=pd.get_dummies(data, columns= ['piano'])"
   ]
  },
  {
   "cell_type": "code",
   "execution_count": null,
   "metadata": {},
   "outputs": [],
   "source": []
  },
  {
   "cell_type": "code",
   "execution_count": 49,
   "metadata": {},
   "outputs": [],
   "source": [
    "\n",
    "X = data.drop(['prezzo'], axis=1)\n",
    "#y = np.array(data['prezzo'].str.replace('\\.','').astype(int)) / np.array(data['superficie'])  'y = €/m2'\n",
    "y = np.log(np.array(data['prezzo'].str.replace('\\.','').astype(int))) # 'y = log(€)'\n",
    "#y = np.array(data['prezzo'].str.replace('\\.','').astype(int))  'y = €'"
   ]
  },
  {
   "cell_type": "code",
   "execution_count": 50,
   "metadata": {},
   "outputs": [],
   "source": [
    "model = linear_model.LinearRegression()"
   ]
  },
  {
   "cell_type": "code",
   "execution_count": 51,
   "metadata": {},
   "outputs": [],
   "source": [
    "X_train, X_test, y_train, y_test = train_test_split(X, y, test_size=0.2, shuffle=True, random_state=42)"
   ]
  },
  {
   "cell_type": "code",
   "execution_count": 52,
   "metadata": {},
   "outputs": [],
   "source": [
    "fit=model.fit(X_train, y_train)"
   ]
  },
  {
   "cell_type": "code",
   "execution_count": 53,
   "metadata": {},
   "outputs": [],
   "source": [
    "y_pred = np.array(model.predict(X_test))"
   ]
  },
  {
   "cell_type": "code",
   "execution_count": 54,
   "metadata": {},
   "outputs": [
    {
     "name": "stdout",
     "output_type": "stream",
     "text": [
      "0.23207882991372572\n"
     ]
    }
   ],
   "source": [
    "from sklearn import metrics\n",
    "\n",
    "print(metrics.mean_absolute_error(y_test,y_pred))"
   ]
  },
  {
   "cell_type": "code",
   "execution_count": 55,
   "metadata": {},
   "outputs": [
    {
     "data": {
      "text/plain": [
       "13.143708957416122"
      ]
     },
     "execution_count": 55,
     "metadata": {},
     "output_type": "execute_result"
    }
   ],
   "source": [
    "y.mean()"
   ]
  },
  {
   "cell_type": "code",
   "execution_count": 56,
   "metadata": {},
   "outputs": [],
   "source": [
    "import numpy as np\n",
    "from sklearn import datasets, linear_model\n",
    "from sklearn.metrics import mean_squared_error, r2_score"
   ]
  },
  {
   "cell_type": "code",
   "execution_count": 57,
   "metadata": {},
   "outputs": [
    {
     "name": "stdout",
     "output_type": "stream",
     "text": [
      "Coefficients: \n",
      " [ 8.77016452e-03  8.49358896e-02 -1.52186299e-01  2.65132227e-01\n",
      "  1.68104277e-01  1.42575015e-01  4.08810753e-01  1.51262844e-01\n",
      "  2.18868741e-01  4.28648682e-01  2.11723614e-01  1.20126125e-01\n",
      "  1.88242280e-01 -1.01243182e-01 -1.43773882e-14  2.07111409e-01\n",
      "  1.73491634e-01 -2.22494226e-01 -1.69605607e-01  5.64328802e-02\n",
      " -3.29031529e-02 -1.53186484e-01 -2.92926211e-01 -5.30551668e-01\n",
      " -9.04161717e-02  4.38538095e-15 -9.57702362e-02 -1.30093650e-01\n",
      " -4.25866684e-01 -2.69229083e-15  6.65455179e-03  4.56817738e-02\n",
      "  3.91942175e-02 -8.85675894e-03 -5.73757511e-02 -1.30001531e-01\n",
      "  1.94508707e-01 -7.84640639e-02 -8.15692521e-02 -9.99570629e-02\n",
      "  3.74860902e-01 -4.30274173e-01  7.03792214e-02 -1.11524878e-01\n",
      " -2.68357114e+00  2.43272783e-01  3.51592515e-01 -1.71348174e-02\n",
      " -6.10232449e-01 -2.04841615e-01 -1.98258923e-01  1.30594570e-01\n",
      "  4.28027590e-02  8.54714735e-02  2.54343491e-01 -2.16493490e-15\n",
      "  1.84638643e-01  3.51393231e-01 -1.68233692e-01  2.15836513e-01\n",
      "  2.88985734e-01  8.65676323e-02 -3.34002167e-01  1.05471187e-15\n",
      " -3.15953236e-01  1.78015293e-02  8.88795399e-02 -5.92936498e-02\n",
      "  4.79226751e-01  1.55236350e-01  3.38290320e-01  3.96764536e-01\n",
      "  3.66373598e-15  1.89271783e-01  3.58365156e-01  3.10862447e-15\n",
      "  1.43952523e-01  3.61862392e-01 -3.13376677e-01 -2.50295335e-02\n",
      " -1.30093650e-01  1.42332993e-01 -2.42276880e-02  8.86537395e-02\n",
      "  1.24448966e-01 -1.86674017e-01  1.61504517e-01 -1.45904352e-01\n",
      " -1.44749505e-01 -3.41429475e-01 -6.57050574e-01 -3.09043698e-01\n",
      " -9.04161717e-02  1.48838317e-01 -5.82597392e-02  3.78250013e-01\n",
      "  6.51161121e-03  8.72655490e-02  0.00000000e+00 -1.39774876e-01\n",
      " -3.40602523e-01  0.00000000e+00 -9.88975355e-02 -5.52281243e-01\n",
      "  1.06222601e-01 -5.43416724e-01]\n",
      "Root mean squared error: 0.30\n",
      "Coefficient of determination: 0.78\n"
     ]
    }
   ],
   "source": [
    "# The coefficients\n",
    "print(\"Coefficients: \\n\", model.coef_)\n",
    "# The mean squared error\n",
    "print(\"Root mean squared error: %.2f\" % np.sqrt(mean_squared_error(y_test, y_pred)))\n",
    "# The coefficient of determination: 1 is perfect prediction\n",
    "print(\"Coefficient of determination: %.2f\" % r2_score(y_test, y_pred))\n"
   ]
  },
  {
   "cell_type": "code",
   "execution_count": 58,
   "metadata": {},
   "outputs": [],
   "source": [
    "# Import the model we are using\n",
    "from sklearn.ensemble import RandomForestRegressor\n",
    "# Instantiate model with 1000 decision trees\n",
    "rf = RandomForestRegressor(n_estimators = 1000, random_state = 17)\n",
    "# Train the model on training data\n",
    "rf.fit(X_train, y_train);\n"
   ]
  },
  {
   "cell_type": "code",
   "execution_count": 59,
   "metadata": {},
   "outputs": [],
   "source": [
    "y_predrf = rf.predict(X_test)"
   ]
  },
  {
   "cell_type": "code",
   "execution_count": 60,
   "metadata": {},
   "outputs": [
    {
     "name": "stdout",
     "output_type": "stream",
     "text": [
      "Root mean squared error: 0.29\n",
      "Coefficient of determination: 0.79\n"
     ]
    }
   ],
   "source": [
    "# The mean squared error\n",
    "print(\"Root mean squared error: %.2f\" % np.sqrt(mean_squared_error(y_test, y_predrf)))\n",
    "# The coefficient of determination: 1 is perfect prediction\n",
    "print(\"Coefficient of determination: %.2f\" % r2_score(y_test, y_predrf))\n"
   ]
  },
  {
   "cell_type": "code",
   "execution_count": 61,
   "metadata": {},
   "outputs": [],
   "source": [
    "from sklearn.ensemble import HistGradientBoostingRegressor"
   ]
  },
  {
   "cell_type": "code",
   "execution_count": 62,
   "metadata": {},
   "outputs": [],
   "source": [
    "HGBR = HistGradientBoostingRegressor().fit(X, y)"
   ]
  },
  {
   "cell_type": "code",
   "execution_count": 63,
   "metadata": {},
   "outputs": [
    {
     "data": {
      "text/plain": [
       "0.8691776799066354"
      ]
     },
     "execution_count": 63,
     "metadata": {},
     "output_type": "execute_result"
    }
   ],
   "source": [
    "HGBR.score(X, y)"
   ]
  },
  {
   "cell_type": "code",
   "execution_count": 64,
   "metadata": {},
   "outputs": [],
   "source": [
    "y_pred = np.array(HGBR.predict(X_test))"
   ]
  },
  {
   "cell_type": "code",
   "execution_count": 65,
   "metadata": {},
   "outputs": [
    {
     "name": "stdout",
     "output_type": "stream",
     "text": [
      "Root mean squared error: 0.19\n",
      "Coefficient of determination: 0.91\n"
     ]
    }
   ],
   "source": [
    "print(\"Root mean squared error: %.2f\" % np.sqrt(mean_squared_error(y_test, y_pred)))\n",
    "# The coefficient of determination: 1 is perfect prediction\n",
    "print(\"Coefficient of determination: %.2f\" % r2_score(y_test, y_pred))\n"
   ]
  },
  {
   "cell_type": "code",
   "execution_count": null,
   "metadata": {},
   "outputs": [],
   "source": []
  }
 ],
 "metadata": {
  "kernelspec": {
   "display_name": "Python 3",
   "language": "python",
   "name": "python3"
  },
  "language_info": {
   "codemirror_mode": {
    "name": "ipython",
    "version": 3
   },
   "file_extension": ".py",
   "mimetype": "text/x-python",
   "name": "python",
   "nbconvert_exporter": "python",
   "pygments_lexer": "ipython3",
   "version": "3.7.4"
  }
 },
 "nbformat": 4,
 "nbformat_minor": 4
}
