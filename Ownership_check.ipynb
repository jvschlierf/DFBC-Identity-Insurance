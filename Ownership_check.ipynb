{
 "cells": [
  {
   "cell_type": "code",
   "execution_count": 1,
   "id": "surface-panama",
   "metadata": {},
   "outputs": [],
   "source": [
    "# v2\n",
    "def check_ownership2(URL,contract,abi): # all inputs are strings\n",
    "    #connect to the contract\n",
    "    web3 = Web3(Web3.HTTPProvider(URL))\n",
    "    web3.eth.defaultAccount = web3.eth.accounts[0]\n",
    "    abi = json.loads(abi)\n",
    "    address = web3.toChecksumAddress(contract)\n",
    "    contract = web3.eth.contract(address = address, abi = abi)\n",
    "    registry = pd.read_csv('LandRegistry.csv')\n",
    "    \n",
    "    #retreive info\n",
    "    customer_name = contract.functions.customer_name().call()\n",
    "    property_address = contract.functions.property_address().call()\n",
    "    #payout_amt = contract.functions.property_address().call()\n",
    "    #funds_address = web3.toChecksumAddress(\"contract.functions.us().call()\")\n",
    "    #customer_address = web3.toChecksumAddress(\"contract.functions.customer().call()\")\n",
    "    \n",
    "    #modify format of indirizzo to have just the address plus civic number\n",
    "    split = registry['indirizzo'].str.split(',',expand=True)\n",
    "    split = split.fillna('')\n",
    "    split[2] = split[2] + split[3]\n",
    "    split = split.drop(3,axis=1)\n",
    "    registry[['Città','Zona','indirizzo']] = split\n",
    "    \n",
    "    #find the entry for address in registry\n",
    "    #and compare owner entry with name to see if they match\n",
    "    prop = registry.loc[registry.indirizzo == address]\n",
    "\n",
    "    #if they don't match call the pay_out function\n",
    "    if prop.Owner.values != name:\n",
    "        # uncomment the line belowe if we want to keep the funds in another address; as it is now it sends the funds from \n",
    "        # private address to the contract and then to the client through the pay_out function, so we can keep our address private\n",
    "        # if we don't care about that we can directly transfer from our private address to the client's address\n",
    "        #web3.eth.send_Transaction({'from':funds_address ,'to':address, 'value':web3.toWei(payout_amt, \"ether\")});\n",
    "        \n",
    "        # this calls the pay_out function on the contract, which assumes that the funds are already in the contract;\n",
    "        contract.functions.pay_out().transact() \n"
   ]
  },
  {
   "cell_type": "code",
   "execution_count": 2,
   "id": "revised-wheel",
   "metadata": {},
   "outputs": [],
   "source": [
    "#function for that loops check_onwership every 7 days \n",
    "#assuming we have a list containing the address and abi for each insurance contract\n",
    "import threading\n",
    "\n",
    "l = None #import the list here\n",
    "\n",
    "t = None\n",
    "\n",
    "\n",
    "\n",
    "def loop():\n",
    "    global t\n",
    "    for address, abi in l:\n",
    "        check_ownership(URL,address,abi) #assuming the URL is static; this is the case for ganache, need to change in case it isn't when deloyed\n",
    "    t = threading.Timer(86400, sayHello)\n",
    "    t.start()\n",
    "    \n",
    "    \n",
    "# to stop the loop just call t.cancel()"
   ]
  }
 ],
 "metadata": {
  "kernelspec": {
   "display_name": "env2",
   "language": "python",
   "name": "env2"
  },
  "language_info": {
   "codemirror_mode": {
    "name": "ipython",
    "version": 3
   },
   "file_extension": ".py",
   "mimetype": "text/x-python",
   "name": "python",
   "nbconvert_exporter": "python",
   "pygments_lexer": "ipython3",
   "version": "3.8.5"
  }
 },
 "nbformat": 4,
 "nbformat_minor": 5
}
