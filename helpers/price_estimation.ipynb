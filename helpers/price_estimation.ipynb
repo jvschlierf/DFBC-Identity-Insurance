{
 "cells": [
  {
   "cell_type": "code",
   "execution_count": 20,
   "metadata": {},
   "outputs": [],
   "source": [
    "import pandas as pd\n",
    "import numpy as np\n",
    "import pickle\n",
    "import re\n",
    "from sklearn import linear_model\n",
    "from sklearn.model_selection import train_test_split\n",
    "from sklearn.preprocessing import OrdinalEncoder, OneHotEncoder, StandardScaler\n",
    "from sklearn.compose import make_column_selector, make_column_transformer\n",
    "from sklearn.experimental import enable_hist_gradient_boosting\n",
    "from sklearn.ensemble import HistGradientBoostingRegressor\n",
    "from sklearn.pipeline import Pipeline\n",
    "from sklearn.metrics import mean_squared_error, r2_score\n",
    "from sklearn.model_selection import GridSearchCV"
   ]
  },
  {
   "cell_type": "code",
   "execution_count": 2,
   "metadata": {},
   "outputs": [
    {
     "data": {
      "text/html": [
       "<div>\n",
       "<style scoped>\n",
       "    .dataframe tbody tr th:only-of-type {\n",
       "        vertical-align: middle;\n",
       "    }\n",
       "\n",
       "    .dataframe tbody tr th {\n",
       "        vertical-align: top;\n",
       "    }\n",
       "\n",
       "    .dataframe thead th {\n",
       "        text-align: right;\n",
       "    }\n",
       "</style>\n",
       "<table border=\"1\" class=\"dataframe\">\n",
       "  <thead>\n",
       "    <tr style=\"text-align: right;\">\n",
       "      <th></th>\n",
       "      <th>Link</th>\n",
       "      <th>Title</th>\n",
       "      <th>indirizzo</th>\n",
       "      <th>riferimento e Data annuncio</th>\n",
       "      <th>contratto</th>\n",
       "      <th>tipologia</th>\n",
       "      <th>superficie</th>\n",
       "      <th>locali</th>\n",
       "      <th>piano</th>\n",
       "      <th>totale piani edificio</th>\n",
       "      <th>...</th>\n",
       "      <th>prezzo</th>\n",
       "      <th>spese condominio</th>\n",
       "      <th>anno di costruzione</th>\n",
       "      <th>stato</th>\n",
       "      <th>riscaldamento</th>\n",
       "      <th>Efficienza energetica</th>\n",
       "      <th>Climatizzatore</th>\n",
       "      <th>immobile garantito</th>\n",
       "      <th>Posti Auto</th>\n",
       "      <th>Owner</th>\n",
       "    </tr>\n",
       "  </thead>\n",
       "  <tbody>\n",
       "    <tr>\n",
       "      <th>0</th>\n",
       "      <td>https://www.immobiliare.it/annunci/91836408/</td>\n",
       "      <td>Quadrilocale via Pietro Panzeri 15, Ticinese, ...</td>\n",
       "      <td>Milano,Ticinese,Via Pietro Panzeri, 15</td>\n",
       "      <td>EK-91836408 - 25/11/2021</td>\n",
       "      <td>Vendita</td>\n",
       "      <td>Appartamento</td>\n",
       "      <td>167 m²</td>\n",
       "      <td>4 (3 camere da letto, 1 altro), 2 bagni, cucin...</td>\n",
       "      <td>Piano terra, con ascensore</td>\n",
       "      <td>6 piani</td>\n",
       "      <td>...</td>\n",
       "      <td>€ 560.000</td>\n",
       "      <td>€ 250/mese</td>\n",
       "      <td>1960.0</td>\n",
       "      <td>Ottimo / Ristrutturato</td>\n",
       "      <td>Autonomo, ad aria, alimentazione elettrica</td>\n",
       "      <td>G ≥ 175 kWh/m² anno</td>\n",
       "      <td>Autonomo, freddo/caldo</td>\n",
       "      <td>NaN</td>\n",
       "      <td>NaN</td>\n",
       "      <td>Karen Moore</td>\n",
       "    </tr>\n",
       "    <tr>\n",
       "      <th>1</th>\n",
       "      <td>https://www.immobiliare.it/annunci/92317086/</td>\n",
       "      <td>Quadrilocale via Francesco Primaticcio 140, Ba...</td>\n",
       "      <td>Milano,Bande Nere,Via Francesco Primaticcio 140</td>\n",
       "      <td>00324 - 29/11/2021</td>\n",
       "      <td>Vendita</td>\n",
       "      <td>Appartamento</td>\n",
       "      <td>130 m²</td>\n",
       "      <td>4 (3 camere da letto, 1 altro), 2 bagni, cucin...</td>\n",
       "      <td>7°, con ascensore, con accesso disabili</td>\n",
       "      <td>8 piani</td>\n",
       "      <td>...</td>\n",
       "      <td>€ 564.000</td>\n",
       "      <td>€ 333/mese</td>\n",
       "      <td>1980.0</td>\n",
       "      <td>Buono / Abitabile</td>\n",
       "      <td>Centralizzato, a radiatori, alimentato a metano</td>\n",
       "      <td>G 175,00 kWh/m² anno</td>\n",
       "      <td>Autonomo, freddo</td>\n",
       "      <td>Dati certificabili, documentazione completa</td>\n",
       "      <td>1 in garage/box</td>\n",
       "      <td>Dwight Hardaway</td>\n",
       "    </tr>\n",
       "    <tr>\n",
       "      <th>2</th>\n",
       "      <td>https://www.immobiliare.it/annunci/86462824/</td>\n",
       "      <td>Trilocale via Ruggiero Settimo, Washington, Mi...</td>\n",
       "      <td>Milano,Washington,Via Ruggiero Settimo</td>\n",
       "      <td>T3212I - 11/11/2021</td>\n",
       "      <td>Vendita</td>\n",
       "      <td>Appartamento</td>\n",
       "      <td>60 m²</td>\n",
       "      <td>3 (2 camere da letto, 1 altro), 1 bagno, cucin...</td>\n",
       "      <td>1°, con ascensore</td>\n",
       "      <td>8 piani</td>\n",
       "      <td>...</td>\n",
       "      <td>€ 420.000</td>\n",
       "      <td>€ 120/mese</td>\n",
       "      <td>1970.0</td>\n",
       "      <td>Ottimo / Ristrutturato</td>\n",
       "      <td>Centralizzato, a radiatori, alimentato a metano</td>\n",
       "      <td>G 224,41 kWh/m² anno</td>\n",
       "      <td>Autonomo, freddo/caldo</td>\n",
       "      <td>Dati certificabili, documentazione completa</td>\n",
       "      <td>NaN</td>\n",
       "      <td>Marcus Hunter</td>\n",
       "    </tr>\n",
       "  </tbody>\n",
       "</table>\n",
       "<p>3 rows × 23 columns</p>\n",
       "</div>"
      ],
      "text/plain": [
       "                                           Link  \\\n",
       "0  https://www.immobiliare.it/annunci/91836408/   \n",
       "1  https://www.immobiliare.it/annunci/92317086/   \n",
       "2  https://www.immobiliare.it/annunci/86462824/   \n",
       "\n",
       "                                               Title  \\\n",
       "0  Quadrilocale via Pietro Panzeri 15, Ticinese, ...   \n",
       "1  Quadrilocale via Francesco Primaticcio 140, Ba...   \n",
       "2  Trilocale via Ruggiero Settimo, Washington, Mi...   \n",
       "\n",
       "                                         indirizzo  \\\n",
       "0           Milano,Ticinese,Via Pietro Panzeri, 15   \n",
       "1  Milano,Bande Nere,Via Francesco Primaticcio 140   \n",
       "2           Milano,Washington,Via Ruggiero Settimo   \n",
       "\n",
       "  riferimento e Data annuncio contratto     tipologia superficie  \\\n",
       "0    EK-91836408 - 25/11/2021   Vendita  Appartamento     167 m²   \n",
       "1          00324 - 29/11/2021   Vendita  Appartamento     130 m²   \n",
       "2         T3212I - 11/11/2021   Vendita  Appartamento      60 m²   \n",
       "\n",
       "                                              locali  \\\n",
       "0  4 (3 camere da letto, 1 altro), 2 bagni, cucin...   \n",
       "1  4 (3 camere da letto, 1 altro), 2 bagni, cucin...   \n",
       "2  3 (2 camere da letto, 1 altro), 1 bagno, cucin...   \n",
       "\n",
       "                                     piano totale piani edificio  ...  \\\n",
       "0               Piano terra, con ascensore               6 piani  ...   \n",
       "1  7°, con ascensore, con accesso disabili               8 piani  ...   \n",
       "2                        1°, con ascensore               8 piani  ...   \n",
       "\n",
       "      prezzo spese condominio anno di costruzione                   stato  \\\n",
       "0  € 560.000       € 250/mese              1960.0  Ottimo / Ristrutturato   \n",
       "1  € 564.000       € 333/mese              1980.0       Buono / Abitabile   \n",
       "2  € 420.000       € 120/mese              1970.0  Ottimo / Ristrutturato   \n",
       "\n",
       "                                     riscaldamento  Efficienza energetica  \\\n",
       "0       Autonomo, ad aria, alimentazione elettrica    G ≥ 175 kWh/m² anno   \n",
       "1  Centralizzato, a radiatori, alimentato a metano   G 175,00 kWh/m² anno   \n",
       "2  Centralizzato, a radiatori, alimentato a metano   G 224,41 kWh/m² anno   \n",
       "\n",
       "           Climatizzatore                           immobile garantito  \\\n",
       "0  Autonomo, freddo/caldo                                          NaN   \n",
       "1        Autonomo, freddo  Dati certificabili, documentazione completa   \n",
       "2  Autonomo, freddo/caldo  Dati certificabili, documentazione completa   \n",
       "\n",
       "        Posti Auto            Owner  \n",
       "0              NaN      Karen Moore  \n",
       "1  1 in garage/box  Dwight Hardaway  \n",
       "2              NaN    Marcus Hunter  \n",
       "\n",
       "[3 rows x 23 columns]"
      ]
     },
     "execution_count": 2,
     "metadata": {},
     "output_type": "execute_result"
    }
   ],
   "source": [
    "# Import data\n",
    "\n",
    "df = pd.read_csv('LandRegistry.csv')\n",
    "df.head(3)"
   ]
  },
  {
   "cell_type": "code",
   "execution_count": 3,
   "metadata": {},
   "outputs": [
    {
     "name": "stdout",
     "output_type": "stream",
     "text": [
      "<class 'pandas.core.frame.DataFrame'>\n",
      "RangeIndex: 451 entries, 0 to 450\n",
      "Data columns (total 23 columns):\n",
      " #   Column                       Non-Null Count  Dtype  \n",
      "---  ------                       --------------  -----  \n",
      " 0   Link                         451 non-null    object \n",
      " 1   Title                        451 non-null    object \n",
      " 2   indirizzo                    451 non-null    object \n",
      " 3   riferimento e Data annuncio  451 non-null    object \n",
      " 4   contratto                    451 non-null    object \n",
      " 5   tipologia                    451 non-null    object \n",
      " 6   superficie                   451 non-null    object \n",
      " 7   locali                       451 non-null    object \n",
      " 8   piano                        451 non-null    object \n",
      " 9   totale piani edificio        450 non-null    object \n",
      " 10  disponibilità                384 non-null    object \n",
      " 11  Tipo proprietà               451 non-null    object \n",
      " 12  altre caratteristiche        450 non-null    object \n",
      " 13  prezzo                       451 non-null    object \n",
      " 14  spese condominio             443 non-null    object \n",
      " 15  anno di costruzione          436 non-null    float64\n",
      " 16  stato                        450 non-null    object \n",
      " 17  riscaldamento                450 non-null    object \n",
      " 18  Efficienza energetica        446 non-null    object \n",
      " 19  Climatizzatore               325 non-null    object \n",
      " 20  immobile garantito           392 non-null    object \n",
      " 21  Posti Auto                   105 non-null    object \n",
      " 22  Owner                        451 non-null    object \n",
      "dtypes: float64(1), object(22)\n",
      "memory usage: 81.2+ KB\n"
     ]
    }
   ],
   "source": [
    "df.info()"
   ]
  },
  {
   "cell_type": "code",
   "execution_count": 4,
   "metadata": {},
   "outputs": [
    {
     "data": {
      "text/html": [
       "<div>\n",
       "<style scoped>\n",
       "    .dataframe tbody tr th:only-of-type {\n",
       "        vertical-align: middle;\n",
       "    }\n",
       "\n",
       "    .dataframe tbody tr th {\n",
       "        vertical-align: top;\n",
       "    }\n",
       "\n",
       "    .dataframe thead th {\n",
       "        text-align: right;\n",
       "    }\n",
       "</style>\n",
       "<table border=\"1\" class=\"dataframe\">\n",
       "  <thead>\n",
       "    <tr style=\"text-align: right;\">\n",
       "      <th></th>\n",
       "      <th>Surface</th>\n",
       "      <th>Rooms</th>\n",
       "      <th>Floor</th>\n",
       "      <th>Price</th>\n",
       "    </tr>\n",
       "  </thead>\n",
       "  <tbody>\n",
       "    <tr>\n",
       "      <th>0</th>\n",
       "      <td>167 m²</td>\n",
       "      <td>4 (3 camere da letto, 1 altro), 2 bagni, cucin...</td>\n",
       "      <td>Piano terra, con ascensore</td>\n",
       "      <td>€ 560.000</td>\n",
       "    </tr>\n",
       "    <tr>\n",
       "      <th>1</th>\n",
       "      <td>130 m²</td>\n",
       "      <td>4 (3 camere da letto, 1 altro), 2 bagni, cucin...</td>\n",
       "      <td>7°, con ascensore, con accesso disabili</td>\n",
       "      <td>€ 564.000</td>\n",
       "    </tr>\n",
       "    <tr>\n",
       "      <th>2</th>\n",
       "      <td>60 m²</td>\n",
       "      <td>3 (2 camere da letto, 1 altro), 1 bagno, cucin...</td>\n",
       "      <td>1°, con ascensore</td>\n",
       "      <td>€ 420.000</td>\n",
       "    </tr>\n",
       "  </tbody>\n",
       "</table>\n",
       "</div>"
      ],
      "text/plain": [
       "  Surface                                              Rooms  \\\n",
       "0  167 m²  4 (3 camere da letto, 1 altro), 2 bagni, cucin...   \n",
       "1  130 m²  4 (3 camere da letto, 1 altro), 2 bagni, cucin...   \n",
       "2   60 m²  3 (2 camere da letto, 1 altro), 1 bagno, cucin...   \n",
       "\n",
       "                                     Floor      Price  \n",
       "0               Piano terra, con ascensore  € 560.000  \n",
       "1  7°, con ascensore, con accesso disabili  € 564.000  \n",
       "2                        1°, con ascensore  € 420.000  "
      ]
     },
     "execution_count": 4,
     "metadata": {},
     "output_type": "execute_result"
    }
   ],
   "source": [
    "# Drop useless columns and variables we don't have in our registry\n",
    "\n",
    "data = df.drop(['Link', 'Title', 'indirizzo', 'riferimento e Data annuncio', 'contratto', 'tipologia', 'altre caratteristiche', 'spese condominio', 'stato', 'totale piani edificio', \n",
    "                'disponibilità', 'Tipo proprietà', 'anno di costruzione', 'riscaldamento', 'Efficienza energetica', 'Climatizzatore', 'immobile garantito', 'Posti Auto', 'Owner'],axis=1)\n",
    "\n",
    "# Rename columns in english\n",
    "data.rename(columns={'superficie' : 'Surface', 'locali' : 'Rooms', 'piano' : 'Floor', 'prezzo' : 'Price'}, inplace=True)\n",
    "data.head(3)"
   ]
  },
  {
   "cell_type": "code",
   "execution_count": 5,
   "metadata": {},
   "outputs": [
    {
     "name": "stdout",
     "output_type": "stream",
     "text": [
      "<class 'pandas.core.frame.DataFrame'>\n",
      "RangeIndex: 451 entries, 0 to 450\n",
      "Data columns (total 4 columns):\n",
      " #   Column   Non-Null Count  Dtype \n",
      "---  ------   --------------  ----- \n",
      " 0   Surface  451 non-null    object\n",
      " 1   Rooms    451 non-null    object\n",
      " 2   Floor    451 non-null    object\n",
      " 3   Price    451 non-null    object\n",
      "dtypes: object(4)\n",
      "memory usage: 14.2+ KB\n"
     ]
    }
   ],
   "source": [
    "data.info()"
   ]
  },
  {
   "cell_type": "code",
   "execution_count": 6,
   "metadata": {},
   "outputs": [],
   "source": [
    "# Clean Surface\n",
    "\n",
    "for i in range(len(data['Surface'])):\n",
    "    a_string = data['Surface'][i]\n",
    "    numbers = []\n",
    "    for word in a_string.split():\n",
    "       if word.isdigit():\n",
    "          numbers.append(int(word))\n",
    "    data.at[i, 'Surface'] = numbers[-(len(numbers))]"
   ]
  },
  {
   "cell_type": "code",
   "execution_count": 7,
   "metadata": {},
   "outputs": [],
   "source": [
    "# Clean Rooms\n",
    "\n",
    "for i in range(len(data['Rooms'])):\n",
    "    a_string = data['Rooms'][i]\n",
    "    numbers = []\n",
    "    for word in a_string.split():\n",
    "       if word.isdigit():\n",
    "          numbers.append(int(word))\n",
    "    data.at[i, 'Rooms'] = numbers[-(len(numbers))]\n",
    "    "
   ]
  },
  {
   "cell_type": "code",
   "execution_count": 8,
   "metadata": {},
   "outputs": [],
   "source": [
    "# Clean Floor\n",
    "\n",
    "for i in range(len(data['Floor'])):\n",
    "    if re.findall(r'\\d+', data['Floor'][i]):\n",
    "        data.at[i, 'Floor'] = int(re.findall(r'\\d+', data['Floor'][i])[0]) # RegEx to get the floor\n",
    "    elif not re.findall(r'Piano terra+', data['Floor'][i]):\n",
    "        data.at[i, 'Floor'] = 0 # Ground floor\n",
    "    else:\n",
    "        data.at[i, 'Floor'] = 'Others' # Basement / others"
   ]
  },
  {
   "cell_type": "code",
   "execution_count": 9,
   "metadata": {},
   "outputs": [],
   "source": [
    "# Clean Price\n",
    "\n",
    "data['Price'] = data['Price'].apply(str)\n",
    "\n",
    "for i in range(len(data['Price'])):\n",
    "    data.at[i, 'Price'] = data['Price'][i].strip().replace('€', '').replace('.', '')\n",
    "    if data['Price'][i] == 'Prezzo su richiesta':\n",
    "        data = data.drop(i, axis=0)\n",
    "\n",
    "data['Price'] = data['Price'].apply(float)\n",
    "data.reset_index(drop=True, inplace=True)"
   ]
  },
  {
   "cell_type": "code",
   "execution_count": 10,
   "metadata": {},
   "outputs": [],
   "source": [
    "# Fix column types\n",
    "\n",
    "data['Surface'] = data['Surface'].apply(int)  \n",
    "\n",
    "data['Rooms'] = data['Rooms'].apply(str)\n",
    "data['Floor'] = data['Floor'].apply(str)"
   ]
  },
  {
   "cell_type": "code",
   "execution_count": 11,
   "metadata": {},
   "outputs": [
    {
     "name": "stdout",
     "output_type": "stream",
     "text": [
      "<class 'pandas.core.frame.DataFrame'>\n",
      "RangeIndex: 449 entries, 0 to 448\n",
      "Data columns (total 4 columns):\n",
      " #   Column   Non-Null Count  Dtype  \n",
      "---  ------   --------------  -----  \n",
      " 0   Surface  449 non-null    int64  \n",
      " 1   Rooms    449 non-null    object \n",
      " 2   Floor    449 non-null    object \n",
      " 3   Price    449 non-null    float64\n",
      "dtypes: float64(1), int64(1), object(2)\n",
      "memory usage: 14.2+ KB\n"
     ]
    }
   ],
   "source": [
    "data.info()"
   ]
  },
  {
   "cell_type": "code",
   "execution_count": 12,
   "metadata": {},
   "outputs": [],
   "source": [
    "# Get target variable and regressors\n",
    "\n",
    "X = data.drop(['Price'], axis=1)\n",
    "y = np.log(np.array(data['Price'])) # y = log(€) "
   ]
  },
  {
   "cell_type": "code",
   "execution_count": 13,
   "metadata": {},
   "outputs": [],
   "source": [
    "# Split the data\n",
    "\n",
    "X_train, X_test, y_train, y_test = train_test_split(X, y, test_size=0.2, shuffle=True, random_state=42)"
   ]
  },
  {
   "cell_type": "code",
   "execution_count": 14,
   "metadata": {},
   "outputs": [],
   "source": [
    "# Column selector\n",
    "\n",
    "encoder = make_column_transformer(\n",
    "    (StandardScaler(), make_column_selector(dtype_include=np.number)), # num_columns\n",
    "    (OneHotEncoder(), make_column_selector(dtype_include=object))) # cat_columns\n"
   ]
  },
  {
   "cell_type": "code",
   "execution_count": 15,
   "metadata": {},
   "outputs": [],
   "source": [
    "class DenseTransformer():\n",
    "\n",
    "    def fit(self, X, y=None, **fit_params):\n",
    "        return self\n",
    "\n",
    "    def transform(self, X, y=None, **fit_params):\n",
    "        return X.todense()"
   ]
  },
  {
   "cell_type": "code",
   "execution_count": 16,
   "metadata": {},
   "outputs": [
    {
     "data": {
      "text/plain": [
       "Pipeline(steps=[('encoder',\n",
       "                 ColumnTransformer(transformers=[('standardscaler',\n",
       "                                                  StandardScaler(),\n",
       "                                                  <sklearn.compose._column_transformer.make_column_selector object at 0x000001EAB925D1C0>),\n",
       "                                                 ('onehotencoder',\n",
       "                                                  OneHotEncoder(),\n",
       "                                                  <sklearn.compose._column_transformer.make_column_selector object at 0x000001EAB925DA00>)])),\n",
       "                ('to_dense',\n",
       "                 <__main__.DenseTransformer object at 0x000001EAB925DC10>),\n",
       "                ('estimator', HistGradientBoostingRegressor())])"
      ]
     },
     "execution_count": 16,
     "metadata": {},
     "output_type": "execute_result"
    }
   ],
   "source": [
    "# Pipeline for HistGradientBoostingRegressor\n",
    "\n",
    "hgbr = Pipeline(steps=[('encoder', encoder), ('to_dense', DenseTransformer()), ('estimator', HistGradientBoostingRegressor())])\n",
    "\n",
    "hgbr.fit(X_train, y_train)"
   ]
  },
  {
   "cell_type": "code",
   "execution_count": 17,
   "metadata": {},
   "outputs": [
    {
     "name": "stdout",
     "output_type": "stream",
     "text": [
      "Root mean squared error: 0.30\n",
      "Coefficient of determination: 0.78\n"
     ]
    }
   ],
   "source": [
    "# Performance\n",
    "\n",
    "y_pred = np.array(hgbr.predict(X_test))\n",
    "print(\"Root mean squared error: %.2f\" % np.sqrt(mean_squared_error(y_test, y_pred)))\n",
    "print(\"Coefficient of determination: %.2f\" % r2_score(y_test, y_pred))\n"
   ]
  },
  {
   "cell_type": "code",
   "execution_count": 18,
   "metadata": {},
   "outputs": [
    {
     "data": {
      "text/plain": [
       "' param_grid = {\\'estimator__learning_rate\\' : [0.075, 0.1, 0.125],\\n              \\'estimator__max_leaf_nodes\\' : [i for i in range(24, 41, 2)],\\n              \\'estimator__min_samples_leaf\\' : [i for i in range(10, 23, 2)],\\n              \\'estimator__max_iter\\' : [500],\\n              \\'estimator__l2_regularization\\' : [0, 0.05, 0.1]\\n              }\\n\\nhgbr_tuned = GridSearchCV(hgbr, param_grid, verbose = 1, n_jobs=-1)\\nbest_hgbr = hgbr_tuned.fit(X_train, y_train)\\n\\ny_pred = np.array(best_hgbr.predict(X_test))\\nprint(\"Root mean squared error: %.2f\" % np.sqrt(mean_squared_error(y_test, y_pred)))\\nprint(\"Coefficient of determination: %.2f\" % r2_score(y_test, y_pred)) '"
      ]
     },
     "execution_count": 18,
     "metadata": {},
     "output_type": "execute_result"
    }
   ],
   "source": [
    "# Hyperparameters tuning for HGBR\n",
    "\n",
    "### Commented because no improvements\n",
    "\n",
    "\"\"\" param_grid = {'estimator__learning_rate' : [0.075, 0.1, 0.125],\n",
    "              'estimator__max_leaf_nodes' : [i for i in range(24, 41, 2)],\n",
    "              'estimator__min_samples_leaf' : [i for i in range(10, 23, 2)],\n",
    "              'estimator__max_iter' : [500],\n",
    "              'estimator__l2_regularization' : [0, 0.05, 0.1]\n",
    "              }\n",
    "\n",
    "hgbr_tuned = GridSearchCV(hgbr, param_grid, verbose = 1, n_jobs=-1)\n",
    "best_hgbr = hgbr_tuned.fit(X_train, y_train)\n",
    "\n",
    "y_pred = np.array(best_hgbr.predict(X_test))\n",
    "print(\"Root mean squared error: %.2f\" % np.sqrt(mean_squared_error(y_test, y_pred)))\n",
    "print(\"Coefficient of determination: %.2f\" % r2_score(y_test, y_pred)) \"\"\""
   ]
  },
  {
   "cell_type": "code",
   "execution_count": 19,
   "metadata": {},
   "outputs": [
    {
     "data": {
      "text/plain": [
       "Pipeline(steps=[('encoder',\n",
       "                 ColumnTransformer(transformers=[('standardscaler',\n",
       "                                                  StandardScaler(),\n",
       "                                                  <sklearn.compose._column_transformer.make_column_selector object at 0x000001EAB925D1C0>),\n",
       "                                                 ('onehotencoder',\n",
       "                                                  OneHotEncoder(),\n",
       "                                                  <sklearn.compose._column_transformer.make_column_selector object at 0x000001EAB925DA00>)])),\n",
       "                ('to_dense',\n",
       "                 <__main__.DenseTransformer object at 0x000001EAB925DC10>),\n",
       "                ('estimator', HistGradientBoostingRegressor())])"
      ]
     },
     "execution_count": 19,
     "metadata": {},
     "output_type": "execute_result"
    }
   ],
   "source": [
    "### FINAL MODEL\n",
    "\n",
    "hgbr.fit(X, y)"
   ]
  },
  {
   "cell_type": "code",
   "execution_count": 21,
   "metadata": {},
   "outputs": [],
   "source": [
    "# Save model\n",
    "filename = 'hgbr_final.pickle'\n",
    "pickle.dump(hgbr, open(filename, 'wb'))"
   ]
  }
 ],
 "metadata": {
  "kernelspec": {
   "display_name": "Python 3",
   "language": "python",
   "name": "python3"
  },
  "language_info": {
   "codemirror_mode": {
    "name": "ipython",
    "version": 3
   },
   "file_extension": ".py",
   "mimetype": "text/x-python",
   "name": "python",
   "nbconvert_exporter": "python",
   "pygments_lexer": "ipython3",
   "version": "3.9.4"
  }
 },
 "nbformat": 4,
 "nbformat_minor": 4
}
